{
  "cells": [
    {
      "cell_type": "code",
      "execution_count": null,
      "metadata": {
        "colab": {
          "base_uri": "https://localhost:8080/"
        },
        "id": "SPt38vYWQI7O",
        "outputId": "e91a141e-f4bc-4b44-c9b2-2c3ca75892c1"
      },
      "outputs": [
        {
          "output_type": "stream",
          "name": "stdout",
          "text": [
            "Collecting scikit-surprise\n",
            "  Downloading scikit_surprise-1.1.4.tar.gz (154 kB)\n",
            "\u001b[?25l     \u001b[90m━━━━━━━━━━━━━━━━━━━━━━━━━━━━━━━━━━━━━━━━\u001b[0m \u001b[32m0.0/154.4 kB\u001b[0m \u001b[31m?\u001b[0m eta \u001b[36m-:--:--\u001b[0m\r\u001b[2K     \u001b[91m━━━━━━━━━━━━━━━━━━━━━━━━━━━━━━━━━━━━━━━\u001b[0m\u001b[91m╸\u001b[0m \u001b[32m153.6/154.4 kB\u001b[0m \u001b[31m5.7 MB/s\u001b[0m eta \u001b[36m0:00:01\u001b[0m\r\u001b[2K     \u001b[90m━━━━━━━━━━━━━━━━━━━━━━━━━━━━━━━━━━━━━━━━\u001b[0m \u001b[32m154.4/154.4 kB\u001b[0m \u001b[31m4.0 MB/s\u001b[0m eta \u001b[36m0:00:00\u001b[0m\n",
            "\u001b[?25h  Installing build dependencies ... \u001b[?25l\u001b[?25hdone\n",
            "  Getting requirements to build wheel ... \u001b[?25l\u001b[?25hdone\n",
            "  Preparing metadata (pyproject.toml) ... \u001b[?25l\u001b[?25hdone\n",
            "Requirement already satisfied: joblib>=1.2.0 in /usr/local/lib/python3.10/dist-packages (from scikit-surprise) (1.4.2)\n",
            "Requirement already satisfied: numpy>=1.19.5 in /usr/local/lib/python3.10/dist-packages (from scikit-surprise) (1.25.2)\n",
            "Requirement already satisfied: scipy>=1.6.0 in /usr/local/lib/python3.10/dist-packages (from scikit-surprise) (1.11.4)\n",
            "Building wheels for collected packages: scikit-surprise\n",
            "  Building wheel for scikit-surprise (pyproject.toml) ... \u001b[?25l\u001b[?25hdone\n",
            "  Created wheel for scikit-surprise: filename=scikit_surprise-1.1.4-cp310-cp310-linux_x86_64.whl size=2357266 sha256=6c7947b7b849ce5fc16230425415374ce5b67d9181da3b6974888bc0f49f988f\n",
            "  Stored in directory: /root/.cache/pip/wheels/4b/3f/df/6acbf0a40397d9bf3ff97f582cc22fb9ce66adde75bc71fd54\n",
            "Successfully built scikit-surprise\n",
            "Installing collected packages: scikit-surprise\n",
            "Successfully installed scikit-surprise-1.1.4\n"
          ]
        }
      ],
      "source": [
        "!pip install scikit-surprise"
      ]
    },
    {
      "cell_type": "code",
      "execution_count": null,
      "metadata": {
        "id": "AXv9WJXHO8jM",
        "colab": {
          "base_uri": "https://localhost:8080/"
        },
        "outputId": "27c12df2-88f2-4f0b-caf4-1439ba13fc4d"
      },
      "outputs": [
        {
          "output_type": "stream",
          "name": "stderr",
          "text": [
            "<ipython-input-7-31345ac6da0b>:7: ParserWarning: Falling back to the 'python' engine because the 'c' engine does not support regex separators (separators > 1 char and different from '\\s+' are interpreted as regex); you can avoid this warning by specifying engine='python'.\n",
            "  ratings = pd.read_csv('/content/drive/MyDrive/movies1m/ratings.dat/ratings.dat', delimiter='::', header=None, names=['userId', 'movieId', 'rating', 'Timestamp'],encoding='ISO-8859-1')\n",
            "<ipython-input-7-31345ac6da0b>:8: ParserWarning: Falling back to the 'python' engine because the 'c' engine does not support regex separators (separators > 1 char and different from '\\s+' are interpreted as regex); you can avoid this warning by specifying engine='python'.\n",
            "  movies = pd.read_csv('/content/drive/MyDrive/movies1m/movies.dat', delimiter='::', header=None, names=['movieId', 'title' , 'categories'],encoding='ISO-8859-1' )\n"
          ]
        },
        {
          "output_type": "stream",
          "name": "stdout",
          "text": [
            "RMSE: 0.8743\n",
            "RMSE: 0.874263109270071\n"
          ]
        }
      ],
      "source": [
        "\n",
        "import pandas as pd\n",
        "from surprise import Reader, Dataset, SVD\n",
        "from surprise.model_selection import train_test_split\n",
        "\n",
        "from surprise.accuracy import rmse\n",
        "# Tải dữ liệu lên\n",
        "ratings = pd.read_csv('/content/drive/MyDrive/movies1m/ratings.dat/ratings.dat', delimiter='::', header=None, names=['userId', 'movieId', 'rating', 'Timestamp'],encoding='ISO-8859-1')\n",
        "movies = pd.read_csv('/content/drive/MyDrive/movies1m/movies.dat', delimiter='::', header=None, names=['movieId', 'title' , 'categories'],encoding='ISO-8859-1' )\n",
        "# Chuyển dữ liệu sang dạng phù hợp\n",
        "reader = Reader(rating_scale=(1, 5))\n",
        "data = Dataset.load_from_df(ratings[['userId', 'movieId', 'rating']], reader)\n",
        "# Chia dữ liệu thành 2 tập\n",
        "trainset, testset = train_test_split(data, test_size=0.2, random_state=42)\n",
        "# Sử dụng Singular Value Decomposition (SVD) algorithm\n",
        "algo = SVD()\n",
        "# Huấn luyện mô hình\n",
        "algo.fit(trainset)\n",
        "# Test mô hình\n",
        "predictions = algo.test(testset)\n",
        "# đánh giá\n",
        "accuracy = rmse(predictions)\n",
        "print('RMSE:', accuracy)\n"
      ]
    },
    {
      "cell_type": "code",
      "source": [
        "for rating in data.raw_ratings[:5]:\n",
        "    print(rating)"
      ],
      "metadata": {
        "colab": {
          "base_uri": "https://localhost:8080/"
        },
        "id": "H-LQ9iK3NwKL",
        "outputId": "7a375b60-df3e-4999-e594-13944785f946"
      },
      "execution_count": null,
      "outputs": [
        {
          "output_type": "stream",
          "name": "stdout",
          "text": [
            "(1, 1193, 5.0, None)\n",
            "(1, 661, 3.0, None)\n",
            "(1, 914, 3.0, None)\n",
            "(1, 3408, 4.0, None)\n",
            "(1, 2355, 5.0, None)\n"
          ]
        }
      ]
    },
    {
      "cell_type": "code",
      "source": [
        "\n",
        "# Lấy ma trận U\n",
        "U = algo.pu\n",
        "print(\"Matrix U:\")\n",
        "print(U)\n",
        "\n",
        "# Lấy ma trận V\n",
        "V = algo.qi\n",
        "print(\"Matrix V:\")\n",
        "print(V)\n"
      ],
      "metadata": {
        "colab": {
          "base_uri": "https://localhost:8080/"
        },
        "id": "b5cwwQEYMY4r",
        "outputId": "5d7eb907-fad7-432a-cde2-40ff77c9d784"
      },
      "execution_count": null,
      "outputs": [
        {
          "output_type": "stream",
          "name": "stdout",
          "text": [
            "Matrix U:\n",
            "[[ 0.22352941 -0.0862921   0.03468134 ...  0.03734438 -0.0530158\n",
            "  -0.16621834]\n",
            " [ 0.05937023 -0.19991677  0.1380476  ...  0.06374694  0.09532025\n",
            "   0.06056811]\n",
            " [ 0.04975215  0.22081336  0.05272054 ...  0.00861791  0.18066372\n",
            "  -0.00480469]\n",
            " ...\n",
            " [ 0.13562654  0.13530233  0.28651217 ...  0.10993815  0.19906671\n",
            "  -0.03960056]\n",
            " [ 0.02733133 -0.01575228  0.05856837 ... -0.15059583 -0.1675214\n",
            "   0.00842472]\n",
            " [-0.07726409  0.0540727   0.11049046 ...  0.11634287  0.0616591\n",
            "  -0.003657  ]]\n",
            "Matrix V:\n",
            "[[ 0.28226467  0.09592256 -0.28208098 ...  0.40381458 -0.09260445\n",
            "  -0.16113557]\n",
            " [ 0.02075825  0.14149813 -0.18034349 ...  0.07908759 -0.11990302\n",
            "   0.11078493]\n",
            " [ 0.15512795 -0.06221339 -0.1151188  ... -0.18250664  0.05956956\n",
            "   0.09577256]\n",
            " ...\n",
            " [-0.00207257 -0.04834966  0.01066234 ...  0.06391368  0.04572341\n",
            "   0.10751102]\n",
            " [ 0.15374378  0.20680763 -0.05705649 ... -0.07062674 -0.01207649\n",
            "   0.17863739]\n",
            " [-0.11978431  0.03494699  0.11917791 ...  0.06459723 -0.02317002\n",
            "   0.09800138]]\n"
          ]
        }
      ]
    },
    {
      "cell_type": "code",
      "source": [
        "from joblib import dump\n",
        "\n",
        "# Lưu mô hình thành file .pkl\n",
        "dump(algo, 'svd_model.pkl')\n"
      ],
      "metadata": {
        "colab": {
          "base_uri": "https://localhost:8080/"
        },
        "id": "fqeQYYwtZVbJ",
        "outputId": "f7921c44-a511-47c3-c80d-edb6bbde6824"
      },
      "execution_count": null,
      "outputs": [
        {
          "output_type": "execute_result",
          "data": {
            "text/plain": [
              "['svd_model.pkl']"
            ]
          },
          "metadata": {},
          "execution_count": 3
        }
      ]
    }
  ],
  "metadata": {
    "colab": {
      "provenance": []
    },
    "kernelspec": {
      "display_name": "Python 3",
      "name": "python3"
    },
    "language_info": {
      "name": "python"
    }
  },
  "nbformat": 4,
  "nbformat_minor": 0
}